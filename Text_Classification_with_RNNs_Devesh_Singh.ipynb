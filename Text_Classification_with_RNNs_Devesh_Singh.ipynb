{
  "nbformat": 4,
  "nbformat_minor": 0,
  "metadata": {
    "colab": {
      "provenance": [],
      "authorship_tag": "ABX9TyP8QIveuPXpaq4BFvmQlhjt",
      "include_colab_link": true
    },
    "kernelspec": {
      "name": "python3",
      "display_name": "Python 3"
    },
    "language_info": {
      "name": "python"
    }
  },
  "cells": [
    {
      "cell_type": "markdown",
      "metadata": {
        "id": "view-in-github",
        "colab_type": "text"
      },
      "source": [
        "<a href=\"https://colab.research.google.com/github/deveshsingh14/Text-classification-using-RNN/blob/main/Text_Classification_with_RNNs_Devesh_Singh.ipynb\" target=\"_parent\"><img src=\"https://colab.research.google.com/assets/colab-badge.svg\" alt=\"Open In Colab\"/></a>"
      ]
    },
    {
      "cell_type": "code",
      "execution_count": null,
      "metadata": {
        "id": "-gQMESe19sIG"
      },
      "outputs": [],
      "source": [
        "str ='''Rama is especially important to Vaishnavism.\n",
        "        He is the central figure of the ancient Hindu epic Ramayana, a text historically popular in the South Asian and Southeast Asian cultures.\n",
        "        His ancient legends have attracted bhasya (commentaries) and extensive secondary literature and inspired performance arts. Two such texts, for example, are the Adhyatma Ramayana – a spiritual and theological treatise considered foundational by Ramanandi monasteries,\n",
        "        [11] and the Ramcharitmanas – a popular treatise that inspires thousands of Ramlila festival performances during autumn every year in India.'''"
      ]
    },
    {
      "cell_type": "code",
      "source": [
        "print(str)"
      ],
      "metadata": {
        "id": "e0hbKw2p-eBw",
        "colab": {
          "base_uri": "https://localhost:8080/"
        },
        "outputId": "49657103-4d10-4085-8aa4-10f2808c6492"
      },
      "execution_count": null,
      "outputs": [
        {
          "output_type": "stream",
          "name": "stdout",
          "text": [
            "Rama is especially important to Vaishnavism.\n",
            "        He is the central figure of the ancient Hindu epic Ramayana, a text historically popular in the South Asian and Southeast Asian cultures.\n",
            "        His ancient legends have attracted bhasya (commentaries) and extensive secondary literature and inspired performance arts. Two such texts, for example, are the Adhyatma Ramayana – a spiritual and theological treatise considered foundational by Ramanandi monasteries,\n",
            "        [11] and the Ramcharitmanas – a popular treatise that inspires thousands of Ramlila festival performances during autumn every year in India.\n"
          ]
        }
      ]
    },
    {
      "cell_type": "code",
      "source": [
        "count_line = 0\n",
        "count_word = 0\n",
        "count_sentence = 0"
      ],
      "metadata": {
        "id": "W55GIlZotML5"
      },
      "execution_count": null,
      "outputs": []
    },
    {
      "cell_type": "code",
      "source": [
        "for line in str:\n",
        "  for word in line:\n",
        "    if(word == \"\\n\"):\n",
        "      count_line = count_line + 1\n",
        "    if(word == \" \"):\n",
        "        count_word = count_word + 1\n",
        "    if(word == \".\"):\n",
        "        count_sentence = count_sentence +1"
      ],
      "metadata": {
        "id": "k1k3if11tMnS"
      },
      "execution_count": null,
      "outputs": []
    },
    {
      "cell_type": "code",
      "source": [
        "print(\"No of Line : \",count_line)\n",
        "print(\"No of Word : \", count_word)\n",
        "print(\"No of Sentence : \", count_sentence)"
      ],
      "metadata": {
        "colab": {
          "base_uri": "https://localhost:8080/"
        },
        "id": "MCNCBXB_tODG",
        "outputId": "e591280f-be61-4b9f-b304-05e4f4c64199"
      },
      "execution_count": null,
      "outputs": [
        {
          "output_type": "stream",
          "name": "stdout",
          "text": [
            "No of Line :  3\n",
            "No of Word :  105\n",
            "No of Sentence :  4\n"
          ]
        }
      ]
    },
    {
      "cell_type": "code",
      "source": [
        "document = str"
      ],
      "metadata": {
        "id": "YIKSYy4JtPm4"
      },
      "execution_count": null,
      "outputs": []
    },
    {
      "cell_type": "code",
      "source": [
        "import nltk"
      ],
      "metadata": {
        "id": "SQQM2u9WtUa4"
      },
      "execution_count": null,
      "outputs": []
    },
    {
      "cell_type": "code",
      "source": [
        "#tokenization\n",
        "from nltk.tokenize import word_tokenize\n",
        "nltk.download(\"punkt\")"
      ],
      "metadata": {
        "colab": {
          "base_uri": "https://localhost:8080/"
        },
        "id": "sxSt8_-vtXz8",
        "outputId": "f0e4b78c-85c4-406a-aa78-c7b2f95c5a95"
      },
      "execution_count": null,
      "outputs": [
        {
          "output_type": "stream",
          "name": "stderr",
          "text": [
            "[nltk_data] Downloading package punkt to /root/nltk_data...\n",
            "[nltk_data]   Package punkt is already up-to-date!\n"
          ]
        },
        {
          "output_type": "execute_result",
          "data": {
            "text/plain": [
              "True"
            ]
          },
          "metadata": {},
          "execution_count": 100
        }
      ]
    },
    {
      "cell_type": "code",
      "source": [
        "split_words=document.split()\n",
        "split_words"
      ],
      "metadata": {
        "colab": {
          "base_uri": "https://localhost:8080/"
        },
        "id": "RJ2ENVoJtbKI",
        "outputId": "a910520a-4d33-4d55-a7d9-0cc8a160461e"
      },
      "execution_count": null,
      "outputs": [
        {
          "output_type": "execute_result",
          "data": {
            "text/plain": [
              "['Rama',\n",
              " 'is',\n",
              " 'especially',\n",
              " 'important',\n",
              " 'to',\n",
              " 'Vaishnavism.',\n",
              " 'He',\n",
              " 'is',\n",
              " 'the',\n",
              " 'central',\n",
              " 'figure',\n",
              " 'of',\n",
              " 'the',\n",
              " 'ancient',\n",
              " 'Hindu',\n",
              " 'epic',\n",
              " 'Ramayana,',\n",
              " 'a',\n",
              " 'text',\n",
              " 'historically',\n",
              " 'popular',\n",
              " 'in',\n",
              " 'the',\n",
              " 'South',\n",
              " 'Asian',\n",
              " 'and',\n",
              " 'Southeast',\n",
              " 'Asian',\n",
              " 'cultures.',\n",
              " 'His',\n",
              " 'ancient',\n",
              " 'legends',\n",
              " 'have',\n",
              " 'attracted',\n",
              " 'bhasya',\n",
              " '(commentaries)',\n",
              " 'and',\n",
              " 'extensive',\n",
              " 'secondary',\n",
              " 'literature',\n",
              " 'and',\n",
              " 'inspired',\n",
              " 'performance',\n",
              " 'arts.',\n",
              " 'Two',\n",
              " 'such',\n",
              " 'texts,',\n",
              " 'for',\n",
              " 'example,',\n",
              " 'are',\n",
              " 'the',\n",
              " 'Adhyatma',\n",
              " 'Ramayana',\n",
              " '–',\n",
              " 'a',\n",
              " 'spiritual',\n",
              " 'and',\n",
              " 'theological',\n",
              " 'treatise',\n",
              " 'considered',\n",
              " 'foundational',\n",
              " 'by',\n",
              " 'Ramanandi',\n",
              " 'monasteries,',\n",
              " '[11]',\n",
              " 'and',\n",
              " 'the',\n",
              " 'Ramcharitmanas',\n",
              " '–',\n",
              " 'a',\n",
              " 'popular',\n",
              " 'treatise',\n",
              " 'that',\n",
              " 'inspires',\n",
              " 'thousands',\n",
              " 'of',\n",
              " 'Ramlila',\n",
              " 'festival',\n",
              " 'performances',\n",
              " 'during',\n",
              " 'autumn',\n",
              " 'every',\n",
              " 'year',\n",
              " 'in',\n",
              " 'India.']"
            ]
          },
          "metadata": {},
          "execution_count": 101
        }
      ]
    },
    {
      "cell_type": "code",
      "source": [
        "len(split_words)"
      ],
      "metadata": {
        "colab": {
          "base_uri": "https://localhost:8080/"
        },
        "id": "Liwbl3ELtdCi",
        "outputId": "311f4091-6c57-4f8c-f68b-635b65d6188a"
      },
      "execution_count": null,
      "outputs": [
        {
          "output_type": "execute_result",
          "data": {
            "text/plain": [
              "85"
            ]
          },
          "metadata": {},
          "execution_count": 102
        }
      ]
    },
    {
      "cell_type": "code",
      "source": [
        "tokens=word_tokenize(document)\n",
        "print(tokens)"
      ],
      "metadata": {
        "colab": {
          "base_uri": "https://localhost:8080/"
        },
        "id": "grFj_Wqsthad",
        "outputId": "168e2d0f-fa93-42d5-db85-0dfef2bb0d0a"
      },
      "execution_count": null,
      "outputs": [
        {
          "output_type": "stream",
          "name": "stdout",
          "text": [
            "['Rama', 'is', 'especially', 'important', 'to', 'Vaishnavism', '.', 'He', 'is', 'the', 'central', 'figure', 'of', 'the', 'ancient', 'Hindu', 'epic', 'Ramayana', ',', 'a', 'text', 'historically', 'popular', 'in', 'the', 'South', 'Asian', 'and', 'Southeast', 'Asian', 'cultures', '.', 'His', 'ancient', 'legends', 'have', 'attracted', 'bhasya', '(', 'commentaries', ')', 'and', 'extensive', 'secondary', 'literature', 'and', 'inspired', 'performance', 'arts', '.', 'Two', 'such', 'texts', ',', 'for', 'example', ',', 'are', 'the', 'Adhyatma', 'Ramayana', '–', 'a', 'spiritual', 'and', 'theological', 'treatise', 'considered', 'foundational', 'by', 'Ramanandi', 'monasteries', ',', '[', '11', ']', 'and', 'the', 'Ramcharitmanas', '–', 'a', 'popular', 'treatise', 'that', 'inspires', 'thousands', 'of', 'Ramlila', 'festival', 'performances', 'during', 'autumn', 'every', 'year', 'in', 'India', '.']\n"
          ]
        }
      ]
    },
    {
      "cell_type": "code",
      "source": [
        "len(tokens)"
      ],
      "metadata": {
        "colab": {
          "base_uri": "https://localhost:8080/"
        },
        "id": "wR1hCgWvtj6-",
        "outputId": "8874b90c-5091-41d2-fd6f-b787d0363eff"
      },
      "execution_count": null,
      "outputs": [
        {
          "output_type": "execute_result",
          "data": {
            "text/plain": [
              "97"
            ]
          },
          "metadata": {},
          "execution_count": 104
        }
      ]
    },
    {
      "cell_type": "code",
      "source": [
        "#stopword removal\n",
        "from nltk.corpus import stopwords\n",
        "nltk.download('stopwords')"
      ],
      "metadata": {
        "colab": {
          "base_uri": "https://localhost:8080/"
        },
        "id": "eAlrp12etlgO",
        "outputId": "f7be24b2-1a0b-4246-a6e9-3f240aa3b91e"
      },
      "execution_count": null,
      "outputs": [
        {
          "output_type": "stream",
          "name": "stderr",
          "text": [
            "[nltk_data] Downloading package stopwords to /root/nltk_data...\n",
            "[nltk_data]   Package stopwords is already up-to-date!\n"
          ]
        },
        {
          "output_type": "execute_result",
          "data": {
            "text/plain": [
              "True"
            ]
          },
          "metadata": {},
          "execution_count": 105
        }
      ]
    },
    {
      "cell_type": "code",
      "source": [
        "english_stopwords=stopwords.words(\"english\")\n",
        "english_stopwords"
      ],
      "metadata": {
        "colab": {
          "base_uri": "https://localhost:8080/"
        },
        "id": "00j30o6CtneU",
        "outputId": "1039a597-c574-4605-a8f6-e2ca1ffbda44"
      },
      "execution_count": null,
      "outputs": [
        {
          "output_type": "execute_result",
          "data": {
            "text/plain": [
              "['i',\n",
              " 'me',\n",
              " 'my',\n",
              " 'myself',\n",
              " 'we',\n",
              " 'our',\n",
              " 'ours',\n",
              " 'ourselves',\n",
              " 'you',\n",
              " \"you're\",\n",
              " \"you've\",\n",
              " \"you'll\",\n",
              " \"you'd\",\n",
              " 'your',\n",
              " 'yours',\n",
              " 'yourself',\n",
              " 'yourselves',\n",
              " 'he',\n",
              " 'him',\n",
              " 'his',\n",
              " 'himself',\n",
              " 'she',\n",
              " \"she's\",\n",
              " 'her',\n",
              " 'hers',\n",
              " 'herself',\n",
              " 'it',\n",
              " \"it's\",\n",
              " 'its',\n",
              " 'itself',\n",
              " 'they',\n",
              " 'them',\n",
              " 'their',\n",
              " 'theirs',\n",
              " 'themselves',\n",
              " 'what',\n",
              " 'which',\n",
              " 'who',\n",
              " 'whom',\n",
              " 'this',\n",
              " 'that',\n",
              " \"that'll\",\n",
              " 'these',\n",
              " 'those',\n",
              " 'am',\n",
              " 'is',\n",
              " 'are',\n",
              " 'was',\n",
              " 'were',\n",
              " 'be',\n",
              " 'been',\n",
              " 'being',\n",
              " 'have',\n",
              " 'has',\n",
              " 'had',\n",
              " 'having',\n",
              " 'do',\n",
              " 'does',\n",
              " 'did',\n",
              " 'doing',\n",
              " 'a',\n",
              " 'an',\n",
              " 'the',\n",
              " 'and',\n",
              " 'but',\n",
              " 'if',\n",
              " 'or',\n",
              " 'because',\n",
              " 'as',\n",
              " 'until',\n",
              " 'while',\n",
              " 'of',\n",
              " 'at',\n",
              " 'by',\n",
              " 'for',\n",
              " 'with',\n",
              " 'about',\n",
              " 'against',\n",
              " 'between',\n",
              " 'into',\n",
              " 'through',\n",
              " 'during',\n",
              " 'before',\n",
              " 'after',\n",
              " 'above',\n",
              " 'below',\n",
              " 'to',\n",
              " 'from',\n",
              " 'up',\n",
              " 'down',\n",
              " 'in',\n",
              " 'out',\n",
              " 'on',\n",
              " 'off',\n",
              " 'over',\n",
              " 'under',\n",
              " 'again',\n",
              " 'further',\n",
              " 'then',\n",
              " 'once',\n",
              " 'here',\n",
              " 'there',\n",
              " 'when',\n",
              " 'where',\n",
              " 'why',\n",
              " 'how',\n",
              " 'all',\n",
              " 'any',\n",
              " 'both',\n",
              " 'each',\n",
              " 'few',\n",
              " 'more',\n",
              " 'most',\n",
              " 'other',\n",
              " 'some',\n",
              " 'such',\n",
              " 'no',\n",
              " 'nor',\n",
              " 'not',\n",
              " 'only',\n",
              " 'own',\n",
              " 'same',\n",
              " 'so',\n",
              " 'than',\n",
              " 'too',\n",
              " 'very',\n",
              " 's',\n",
              " 't',\n",
              " 'can',\n",
              " 'will',\n",
              " 'just',\n",
              " 'don',\n",
              " \"don't\",\n",
              " 'should',\n",
              " \"should've\",\n",
              " 'now',\n",
              " 'd',\n",
              " 'll',\n",
              " 'm',\n",
              " 'o',\n",
              " 're',\n",
              " 've',\n",
              " 'y',\n",
              " 'ain',\n",
              " 'aren',\n",
              " \"aren't\",\n",
              " 'couldn',\n",
              " \"couldn't\",\n",
              " 'didn',\n",
              " \"didn't\",\n",
              " 'doesn',\n",
              " \"doesn't\",\n",
              " 'hadn',\n",
              " \"hadn't\",\n",
              " 'hasn',\n",
              " \"hasn't\",\n",
              " 'haven',\n",
              " \"haven't\",\n",
              " 'isn',\n",
              " \"isn't\",\n",
              " 'ma',\n",
              " 'mightn',\n",
              " \"mightn't\",\n",
              " 'mustn',\n",
              " \"mustn't\",\n",
              " 'needn',\n",
              " \"needn't\",\n",
              " 'shan',\n",
              " \"shan't\",\n",
              " 'shouldn',\n",
              " \"shouldn't\",\n",
              " 'wasn',\n",
              " \"wasn't\",\n",
              " 'weren',\n",
              " \"weren't\",\n",
              " 'won',\n",
              " \"won't\",\n",
              " 'wouldn',\n",
              " \"wouldn't\"]"
            ]
          },
          "metadata": {},
          "execution_count": 106
        }
      ]
    },
    {
      "cell_type": "code",
      "source": [
        "#clean_token=[]\n",
        "#for token in tokens:\n",
        "# if token not in english_stopwords:\n",
        "#   clean_token.append(token)\n",
        "\n",
        "\n",
        "clean_token=[token for token in tokens if token not in english_stopwords] #list comprehension\n"
      ],
      "metadata": {
        "id": "MWkfUV37tpG7"
      },
      "execution_count": null,
      "outputs": []
    },
    {
      "cell_type": "code",
      "source": [
        "print(clean_token)"
      ],
      "metadata": {
        "colab": {
          "base_uri": "https://localhost:8080/"
        },
        "id": "Ad6Ym4p4trpY",
        "outputId": "36103db1-6e75-4938-80cb-9014eac3b7ae"
      },
      "execution_count": null,
      "outputs": [
        {
          "output_type": "stream",
          "name": "stdout",
          "text": [
            "['Rama', 'especially', 'important', 'Vaishnavism', '.', 'He', 'central', 'figure', 'ancient', 'Hindu', 'epic', 'Ramayana', ',', 'text', 'historically', 'popular', 'South', 'Asian', 'Southeast', 'Asian', 'cultures', '.', 'His', 'ancient', 'legends', 'attracted', 'bhasya', '(', 'commentaries', ')', 'extensive', 'secondary', 'literature', 'inspired', 'performance', 'arts', '.', 'Two', 'texts', ',', 'example', ',', 'Adhyatma', 'Ramayana', '–', 'spiritual', 'theological', 'treatise', 'considered', 'foundational', 'Ramanandi', 'monasteries', ',', '[', '11', ']', 'Ramcharitmanas', '–', 'popular', 'treatise', 'inspires', 'thousands', 'Ramlila', 'festival', 'performances', 'autumn', 'every', 'year', 'India', '.']\n"
          ]
        }
      ]
    },
    {
      "cell_type": "code",
      "source": [
        "len(clean_token)"
      ],
      "metadata": {
        "colab": {
          "base_uri": "https://localhost:8080/"
        },
        "id": "43-y4AcBttbK",
        "outputId": "0eb20d93-547e-4126-9c3f-4b86bed6a180"
      },
      "execution_count": null,
      "outputs": [
        {
          "output_type": "execute_result",
          "data": {
            "text/plain": [
              "70"
            ]
          },
          "metadata": {},
          "execution_count": 109
        }
      ]
    },
    {
      "cell_type": "code",
      "source": [
        "#punctuation removal\n",
        "from string import punctuation"
      ],
      "metadata": {
        "id": "0gwU2VO_tueu"
      },
      "execution_count": null,
      "outputs": []
    },
    {
      "cell_type": "code",
      "source": [
        "clean_token=[token for token in clean_token if token not in punctuation]"
      ],
      "metadata": {
        "id": "uN6XeJ-rtvnY"
      },
      "execution_count": null,
      "outputs": []
    },
    {
      "cell_type": "code",
      "source": [
        "len(clean_token)"
      ],
      "metadata": {
        "colab": {
          "base_uri": "https://localhost:8080/"
        },
        "id": "OLG8gb5vtxTS",
        "outputId": "39c9e3a5-ff79-4742-f3d4-f101011f71ea"
      },
      "execution_count": null,
      "outputs": [
        {
          "output_type": "execute_result",
          "data": {
            "text/plain": [
              "58"
            ]
          },
          "metadata": {},
          "execution_count": 112
        }
      ]
    },
    {
      "cell_type": "code",
      "source": [
        "from nltk.stem import PorterStemmer"
      ],
      "metadata": {
        "id": "Ea7QJC-Ktyl8"
      },
      "execution_count": null,
      "outputs": []
    },
    {
      "cell_type": "code",
      "source": [
        "from nltk.stem import WordNetLemmatizer\n",
        "nltk.download('wordnet')"
      ],
      "metadata": {
        "colab": {
          "base_uri": "https://localhost:8080/"
        },
        "id": "HizhxA6dt0Da",
        "outputId": "5f37f378-02f0-4939-feb3-cbb070f4a703"
      },
      "execution_count": null,
      "outputs": [
        {
          "output_type": "stream",
          "name": "stderr",
          "text": [
            "[nltk_data] Downloading package wordnet to /root/nltk_data...\n",
            "[nltk_data]   Package wordnet is already up-to-date!\n"
          ]
        },
        {
          "output_type": "execute_result",
          "data": {
            "text/plain": [
              "True"
            ]
          },
          "metadata": {},
          "execution_count": 114
        }
      ]
    },
    {
      "cell_type": "code",
      "source": [
        "stemmer=PorterStemmer()"
      ],
      "metadata": {
        "id": "SdU93eOmt1RK"
      },
      "execution_count": null,
      "outputs": []
    },
    {
      "cell_type": "code",
      "source": [
        "stemmer.stem(\"playing\")"
      ],
      "metadata": {
        "colab": {
          "base_uri": "https://localhost:8080/",
          "height": 35
        },
        "id": "V3w5eUCAt2iN",
        "outputId": "d4c15753-148f-4d7a-ad5a-a465ba87725f"
      },
      "execution_count": null,
      "outputs": [
        {
          "output_type": "execute_result",
          "data": {
            "text/plain": [
              "'play'"
            ],
            "application/vnd.google.colaboratory.intrinsic+json": {
              "type": "string"
            }
          },
          "metadata": {},
          "execution_count": 116
        }
      ]
    },
    {
      "cell_type": "code",
      "source": [
        "stemmer.stem(\"feet\")\n",
        "stemmer.stem(\"wolves\")"
      ],
      "metadata": {
        "colab": {
          "base_uri": "https://localhost:8080/",
          "height": 35
        },
        "id": "gLIH5XZSt3r4",
        "outputId": "6082a4b7-dfdd-49d9-976c-e0f9a67928c5"
      },
      "execution_count": null,
      "outputs": [
        {
          "output_type": "execute_result",
          "data": {
            "text/plain": [
              "'wolv'"
            ],
            "application/vnd.google.colaboratory.intrinsic+json": {
              "type": "string"
            }
          },
          "metadata": {},
          "execution_count": 117
        }
      ]
    },
    {
      "cell_type": "code",
      "source": [
        "lemmatizer=WordNetLemmatizer()\n",
        "lemmatizer.lemmatize(\"studied\",\"v\")  # v - verb"
      ],
      "metadata": {
        "colab": {
          "base_uri": "https://localhost:8080/",
          "height": 35
        },
        "id": "aySX2fCXt5vC",
        "outputId": "7d8fdfdc-7ff4-4a0b-8f56-8023b3c10216"
      },
      "execution_count": null,
      "outputs": [
        {
          "output_type": "execute_result",
          "data": {
            "text/plain": [
              "'study'"
            ],
            "application/vnd.google.colaboratory.intrinsic+json": {
              "type": "string"
            }
          },
          "metadata": {},
          "execution_count": 118
        }
      ]
    },
    {
      "cell_type": "code",
      "source": [
        "lemmatizer.lemmatize(\"wolves\")"
      ],
      "metadata": {
        "colab": {
          "base_uri": "https://localhost:8080/",
          "height": 35
        },
        "id": "m43DIaQQt7PO",
        "outputId": "58410566-4f34-47c1-f6c7-cf700ac4d1ec"
      },
      "execution_count": null,
      "outputs": [
        {
          "output_type": "execute_result",
          "data": {
            "text/plain": [
              "'wolf'"
            ],
            "application/vnd.google.colaboratory.intrinsic+json": {
              "type": "string"
            }
          },
          "metadata": {},
          "execution_count": 119
        }
      ]
    },
    {
      "cell_type": "code",
      "source": [
        "lemmatizer.lemmatize(\"feet\")"
      ],
      "metadata": {
        "colab": {
          "base_uri": "https://localhost:8080/",
          "height": 35
        },
        "id": "yDzOB6d9t8xz",
        "outputId": "ffbd1a0e-afcf-4a47-c73f-fc6e33d0aca6"
      },
      "execution_count": null,
      "outputs": [
        {
          "output_type": "execute_result",
          "data": {
            "text/plain": [
              "'foot'"
            ],
            "application/vnd.google.colaboratory.intrinsic+json": {
              "type": "string"
            }
          },
          "metadata": {},
          "execution_count": 120
        }
      ]
    },
    {
      "cell_type": "code",
      "source": [
        "clean_token=[lemmatizer.lemmatize(token) for token in clean_token]\n",
        "clean_token=[lemmatizer.lemmatize(token,\"v\") for token in clean_token]  # for verb\n",
        "clean_token=[lemmatizer.lemmatize(token,\"n\") for token in clean_token]  # for noun"
      ],
      "metadata": {
        "id": "g8PEckqut-UV"
      },
      "execution_count": null,
      "outputs": []
    },
    {
      "cell_type": "code",
      "source": [
        "len(clean_token)"
      ],
      "metadata": {
        "colab": {
          "base_uri": "https://localhost:8080/"
        },
        "id": "TiAuhocZuAIZ",
        "outputId": "8f36a93d-8485-4fad-8bbd-a3f7184bd27c"
      },
      "execution_count": null,
      "outputs": [
        {
          "output_type": "execute_result",
          "data": {
            "text/plain": [
              "58"
            ]
          },
          "metadata": {},
          "execution_count": 122
        }
      ]
    },
    {
      "cell_type": "code",
      "source": [
        "import nltk\n",
        "nltk.download('averaged_perceptron_tagger')"
      ],
      "metadata": {
        "colab": {
          "base_uri": "https://localhost:8080/"
        },
        "id": "98XRhZESuNvp",
        "outputId": "1f275829-401a-46f5-d6fd-60d5e3cc3fb8"
      },
      "execution_count": null,
      "outputs": [
        {
          "output_type": "stream",
          "name": "stderr",
          "text": [
            "[nltk_data] Downloading package averaged_perceptron_tagger to\n",
            "[nltk_data]     /root/nltk_data...\n",
            "[nltk_data]   Package averaged_perceptron_tagger is already up-to-\n",
            "[nltk_data]       date!\n"
          ]
        },
        {
          "output_type": "execute_result",
          "data": {
            "text/plain": [
              "True"
            ]
          },
          "metadata": {},
          "execution_count": 123
        }
      ]
    },
    {
      "cell_type": "code",
      "source": [
        "pos_tokens1=nltk.pos_tag(clean_token)\n",
        "print(pos_tokens1)"
      ],
      "metadata": {
        "colab": {
          "base_uri": "https://localhost:8080/"
        },
        "id": "EiChCFQ4ua1x",
        "outputId": "6949065f-0666-46c8-f290-718e94275467"
      },
      "execution_count": null,
      "outputs": [
        {
          "output_type": "stream",
          "name": "stdout",
          "text": [
            "[('Rama', 'NNP'), ('especially', 'RB'), ('important', 'JJ'), ('Vaishnavism', 'NNP'), ('He', 'PRP'), ('central', 'JJ'), ('figure', 'NN'), ('ancient', 'NN'), ('Hindu', 'NNP'), ('epic', 'NN'), ('Ramayana', 'NNP'), ('text', 'NN'), ('historically', 'RB'), ('popular', 'JJ'), ('South', 'NNP'), ('Asian', 'NNP'), ('Southeast', 'NNP'), ('Asian', 'JJ'), ('culture', 'NN'), ('His', 'PRP$'), ('ancient', 'JJ'), ('legend', 'NN'), ('attract', 'NN'), ('bhasya', 'IN'), ('commentary', 'JJ'), ('extensive', 'JJ'), ('secondary', 'JJ'), ('literature', 'NN'), ('inspire', 'NN'), ('performance', 'NN'), ('art', 'NN'), ('Two', 'CD'), ('text', 'NN'), ('example', 'NN'), ('Adhyatma', 'NNP'), ('Ramayana', 'NNP'), ('–', 'NNP'), ('spiritual', 'JJ'), ('theological', 'JJ'), ('treatise', 'NN'), ('consider', 'VBP'), ('foundational', 'JJ'), ('Ramanandi', 'NNP'), ('monastery', 'NN'), ('11', 'CD'), ('Ramcharitmanas', 'NNP'), ('–', 'NNP'), ('popular', 'JJ'), ('treatise', 'NN'), ('inspire', 'NN'), ('thousand', 'CD'), ('Ramlila', 'NNP'), ('festival', 'JJ'), ('performance', 'NN'), ('autumn', 'NN'), ('every', 'DT'), ('year', 'NN'), ('India', 'NNP')]\n"
          ]
        }
      ]
    },
    {
      "cell_type": "code",
      "source": [
        "for elements in pos_tokens1:\n",
        "  if elements[1] in [\"NN\",\"NNS\",\"NNP\",\"NNPS\"]:\n",
        "   print(elements[0])"
      ],
      "metadata": {
        "colab": {
          "base_uri": "https://localhost:8080/"
        },
        "id": "eH2J9ZkbuXxn",
        "outputId": "5492a50b-b8db-4caf-98e3-bd25041690be"
      },
      "execution_count": null,
      "outputs": [
        {
          "output_type": "stream",
          "name": "stdout",
          "text": [
            "Rama\n",
            "Vaishnavism\n",
            "figure\n",
            "ancient\n",
            "Hindu\n",
            "epic\n",
            "Ramayana\n",
            "text\n",
            "South\n",
            "Asian\n",
            "Southeast\n",
            "culture\n",
            "legend\n",
            "attract\n",
            "literature\n",
            "inspire\n",
            "performance\n",
            "art\n",
            "text\n",
            "example\n",
            "Adhyatma\n",
            "Ramayana\n",
            "–\n",
            "treatise\n",
            "Ramanandi\n",
            "monastery\n",
            "Ramcharitmanas\n",
            "–\n",
            "treatise\n",
            "inspire\n",
            "Ramlila\n",
            "performance\n",
            "autumn\n",
            "year\n",
            "India\n"
          ]
        }
      ]
    },
    {
      "cell_type": "code",
      "source": [
        "import spacy\n",
        "model=spacy.load(\"en_core_web_sm\")\n",
        "clean_document1=\" \".join(clean_token)\n",
        "print(clean_document1)"
      ],
      "metadata": {
        "colab": {
          "base_uri": "https://localhost:8080/"
        },
        "id": "XIUuBRGJuluV",
        "outputId": "1e8ca0b4-b9be-4d6a-dbd1-de63d584b2e1"
      },
      "execution_count": null,
      "outputs": [
        {
          "output_type": "stream",
          "name": "stdout",
          "text": [
            "Rama especially important Vaishnavism He central figure ancient Hindu epic Ramayana text historically popular South Asian Southeast Asian culture His ancient legend attract bhasya commentary extensive secondary literature inspire performance art Two text example Adhyatma Ramayana – spiritual theological treatise consider foundational Ramanandi monastery 11 Ramcharitmanas – popular treatise inspire thousand Ramlila festival performance autumn every year India\n"
          ]
        }
      ]
    },
    {
      "cell_type": "code",
      "source": [
        "result=model(clean_document1)"
      ],
      "metadata": {
        "id": "SRgGdlDludaK"
      },
      "execution_count": null,
      "outputs": []
    },
    {
      "cell_type": "code",
      "source": [
        "from wordcloud import WordCloud\n",
        "import matplotlib.pyplot as plt"
      ],
      "metadata": {
        "id": "BFDH2CoauFSJ"
      },
      "execution_count": null,
      "outputs": []
    },
    {
      "cell_type": "code",
      "source": [
        "import matplotlib.pyplot as plt\n",
        "from wordcloud import WordCloud, STOPWORDS\n",
        "import numpy as np\n",
        "from PIL import Image\n",
        "mask = np.array(Image.open(\n",
        "                r'/content/Screenshot_20230215_115740.png'))"
      ],
      "metadata": {
        "id": "W6o2EzPsvV7L"
      },
      "execution_count": null,
      "outputs": []
    },
    {
      "cell_type": "code",
      "source": [
        "from PIL import Image\n",
        "im = Image.open('/content/Screenshot_20230215_115740.png')\n",
        "im.show()\n",
        "display(im)"
      ],
      "metadata": {
        "id": "EKw43syJyDXV",
        "colab": {
          "base_uri": "https://localhost:8080/",
          "height": 359
        },
        "outputId": "0b83dfc3-4b67-4dba-e872-449ac63713ca"
      },
      "execution_count": null,
      "outputs": [
        {
          "output_type": "display_data",
          "data": {
            "text/plain": [
              "<PIL.PngImagePlugin.PngImageFile image mode=RGBA size=804x342>"
            ],
            "image/png": "[encoded data removed]"
          },
          "metadata": {}
        }
      ]
    },
    {
      "cell_type": "code",
      "source": [
        "wc=WordCloud(width=800,height=900,\n",
        "             background_color=\"white\",\n",
        "             min_font_size=10)\n",
        "wc.generate(clean_document1)\n",
        "plt.imshow(wc)\n",
        "plt.axis(\"off\")\n",
        "plt.show()\n",
        "\n",
        "\n"
      ],
      "metadata": {
        "colab": {
          "base_uri": "https://localhost:8080/",
          "height": 406
        },
        "id": "ctpxIm5juJMm",
        "outputId": "16de170e-a50c-45d3-edc3-b4424b553830"
      },
      "execution_count": null,
      "outputs": [
        {
          "output_type": "display_data",
          "data": {
            "text/plain": [
              "<Figure size 640x480 with 1 Axes>"
            ],
            "image/png": "[encoded data removed]"
          },
          "metadata": {}
        }
      ]
    },
    {
      "cell_type": "code",
      "source": [
        "wc = WordCloud(stopwords = STOPWORDS,\n",
        "               mask = mask,\n",
        "               background_color = \"white\",\n",
        "               max_words = 2000,\n",
        "               max_font_size = 500,\n",
        "               random_state = 42,\n",
        "               width = mask.shape[1],\n",
        "               height = mask.shape[0])"
      ],
      "metadata": {
        "id": "NGMy9U5bw4dy"
      },
      "execution_count": null,
      "outputs": []
    },
    {
      "cell_type": "code",
      "source": [
        "display(im)"
      ],
      "metadata": {
        "id": "cHxS_PhiyxrW",
        "outputId": "378dd784-7840-4196-f13f-0cf8a1745597",
        "colab": {
          "base_uri": "https://localhost:8080/",
          "height": 359
        }
      },
      "execution_count": null,
      "outputs": [
        {
          "output_type": "display_data",
          "data": {
            "text/plain": [
              "<PIL.PngImagePlugin.PngImageFile image mode=RGBA size=804x342>"
            ],
            "image/png": "[encoded data removed]"
          },
          "metadata": {}
        }
      ]
    },
    {
      "cell_type": "code",
      "source": [
        "wc.generate(clean_document1)\n",
        "plt.imshow(wc, interpolation = \"None\")\n",
        "plt.axis('off')\n",
        "plt.show()"
      ],
      "metadata": {
        "colab": {
          "base_uri": "https://localhost:8080/",
          "height": 247
        },
        "id": "ta6WjRtPuKQ3",
        "outputId": "9f860150-37bc-4b4e-f564-c6fbd399b591"
      },
      "execution_count": null,
      "outputs": [
        {
          "output_type": "display_data",
          "data": {
            "text/plain": [
              "<Figure size 640x480 with 1 Axes>"
            ],
            "image/png": "[encoded data removed]"
          },
          "metadata": {}
        }
      ]
    },
    {
      "cell_type": "code",
      "source": [],
      "metadata": {
        "id": "U9sbw93lxDe9"
      },
      "execution_count": null,
      "outputs": []
    }
  ]
}